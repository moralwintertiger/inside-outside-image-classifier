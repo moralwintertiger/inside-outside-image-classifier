{
 "cells": [
  {
   "cell_type": "code",
   "execution_count": 1,
   "metadata": {},
   "outputs": [],
   "source": [
    "import os\n",
    "import shutil\n",
    "import argparse\n",
    "import random as random\n",
    "from typing import List"
   ]
  },
  {
   "cell_type": "code",
   "execution_count": 2,
   "metadata": {},
   "outputs": [],
   "source": [
    "INSIDE_DIRECTORY: str = \"../data-fetch/inside-frames/\"\n",
    "OUTSIDE_DIRECTORY: str = \"../data-fetch/outside-frames/\"\n",
    "DATA_DIRECTORY: str = \"../data_bunch/\""
   ]
  },
  {
   "cell_type": "code",
   "execution_count": 3,
   "metadata": {},
   "outputs": [],
   "source": [
    "def update_file_location(dir_path: str, name: str, root: str,\n",
    "                         item: str) -> None:\n",
    "    \"\"\"Copies file from first location to second\"\"\"\n",
    "    original_loc = str(os.path.join(root, item))\n",
    "    target_loc = str(os.path.join(DATA_DIRECTORY, dir_path, name))\n",
    "    shutil.copy(original_loc, target_loc)\n",
    "\n",
    "\n",
    "def train_test_split(directory: str, feature_class: str,\n",
    "                     frame_limit: int) -> None:\n",
    "    \"\"\"\n",
    "    Parameters\n",
    "    ----------\n",
    "    directory: str, path to original file location\n",
    "    feature_class: str, IN ['inside', 'outside']\n",
    "    frame_limit: int, max number of frames to process\n",
    "    \"\"\"\n",
    "\n",
    "    frame_cnt = 1\n",
    "    for root, _, files in os.walk(directory, topdown=False):\n",
    "        for item in files:\n",
    "            _, ext = os.path.splitext(item)\n",
    "            if ext == '.png':\n",
    "                name = f\"{frame_cnt}_{item}\"\n",
    "                t = random.random()\n",
    "                if t <= .8:\n",
    "                    update_file_location(f\"train/{feature_class}\", name, root,\n",
    "                                         item)\n",
    "                elif t >= .8 and t <= .9:\n",
    "                    update_file_location(f\"test/{feature_class}\", name, root,\n",
    "                                         item)\n",
    "                elif t >= .9:\n",
    "                    update_file_location(f\"valid/{feature_class}\", name, root,\n",
    "                                         item)\n",
    "                frame_cnt += 1\n",
    "            if frame_cnt >= frame_limit:\n",
    "                break"
   ]
  },
  {
   "cell_type": "code",
   "execution_count": 4,
   "metadata": {},
   "outputs": [],
   "source": [
    "class Bunchify(object):\n",
    "    def __init__(self, inside_path: str, outside_path: str, frame_limit: int):\n",
    "        self.inside_path = inside_path\n",
    "        self.outside_path = outside_path\n",
    "        self.frame_limit = frame_limit\n",
    "\n",
    "    def create_train_test_directories(self):\n",
    "        category_folders: List[str] = ['inside', 'outside']\n",
    "        split_folders: List[str] = ['train', 'test', 'valid']\n",
    "        for split in split_folders:\n",
    "            for category in category_folders:\n",
    "                new_path = os.path.join(DATA_DIRECTORY, split, category)\n",
    "                try:\n",
    "                    os.makedirs(new_path)\n",
    "                except FileExistsError:\n",
    "                    pass\n",
    "\n",
    "    def run_split(self) -> None:\n",
    "        path_dict = {'inside': self.inside_path, 'outside': self.outside_path}\n",
    "        for cat_type, cat_path in path_dict.items():\n",
    "            train_test_split(directory=cat_path,\n",
    "                             feature_class=cat_type,\n",
    "                             frame_limit=self.frame_limit)"
   ]
  },
  {
   "cell_type": "code",
   "execution_count": 5,
   "metadata": {},
   "outputs": [],
   "source": [
    "bunch = Bunchify(inside_path=INSIDE_DIRECTORY,\n",
    "                 outside_path=OUTSIDE_DIRECTORY,\n",
    "                 frame_limit=3500)\n",
    "bunch.create_train_test_directories()\n",
    "bunch.run_split()"
   ]
  }
 ],
 "metadata": {
  "kernelspec": {
   "display_name": "Python 3.7.6 64-bit ('flask': conda)",
   "language": "python",
   "name": "python37664bitflaskconda3ee2e7412ab54c41b76479922f00e93b"
  },
  "language_info": {
   "codemirror_mode": {
    "name": "ipython",
    "version": 3
   },
   "file_extension": ".py",
   "mimetype": "text/x-python",
   "name": "python",
   "nbconvert_exporter": "python",
   "pygments_lexer": "ipython3",
   "version": "3.7.6"
  }
 },
 "nbformat": 4,
 "nbformat_minor": 4
}
